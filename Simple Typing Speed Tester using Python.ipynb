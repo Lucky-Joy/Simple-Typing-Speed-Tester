{
 "cells": [
  {
   "cell_type": "code",
   "execution_count": 2,
   "id": "76785d90",
   "metadata": {
    "scrolled": true
   },
   "outputs": [
    {
     "data": {
      "text/markdown": [
       "## Typing Speed Test"
      ],
      "text/plain": [
       "<IPython.core.display.Markdown object>"
      ]
     },
     "metadata": {},
     "output_type": "display_data"
    },
    {
     "data": {
      "text/markdown": [
       "Type the following sentence:\n",
       "\n",
       "```\n",
       "Peter Piper picked a peck of pickled peppers.\n",
       "```"
      ],
      "text/plain": [
       "<IPython.core.display.Markdown object>"
      ]
     },
     "metadata": {},
     "output_type": "display_data"
    },
    {
     "data": {
      "text/markdown": [
       "Press Enter to start the timer."
      ],
      "text/plain": [
       "<IPython.core.display.Markdown object>"
      ]
     },
     "metadata": {},
     "output_type": "display_data"
    },
    {
     "name": "stdout",
     "output_type": "stream",
     "text": [
      "\n",
      "You have 30 seconds to finish this. Hurry up!!\n",
      "Start typing: yr7ekui\n"
     ]
    },
    {
     "data": {
      "text/markdown": [
       "### Typing Speed Results:"
      ],
      "text/plain": [
       "<IPython.core.display.Markdown object>"
      ]
     },
     "metadata": {},
     "output_type": "display_data"
    },
    {
     "data": {
      "text/markdown": [
       "Accuracy: 2.22%"
      ],
      "text/plain": [
       "<IPython.core.display.Markdown object>"
      ]
     },
     "metadata": {},
     "output_type": "display_data"
    },
    {
     "data": {
      "text/markdown": [
       "Words per minute: 38.12188059160677"
      ],
      "text/plain": [
       "<IPython.core.display.Markdown object>"
      ]
     },
     "metadata": {},
     "output_type": "display_data"
    },
    {
     "data": {
      "text/markdown": [
       "Total time taken: 1.573899269104004 seconds"
      ],
      "text/plain": [
       "<IPython.core.display.Markdown object>"
      ]
     },
     "metadata": {},
     "output_type": "display_data"
    },
    {
     "data": {
      "text/markdown": [
       "You were **28.426100730895996 seconds faster** than your target time."
      ],
      "text/plain": [
       "<IPython.core.display.Markdown object>"
      ]
     },
     "metadata": {},
     "output_type": "display_data"
    }
   ],
   "source": [
    "import time\n",
    "import random\n",
    "from IPython.display import Markdown, display\n",
    "def display_markdown(text):\n",
    "    display(Markdown(text))\n",
    "def generate_random_sentence():\n",
    "    sentences=[\n",
    "        \"The quick brown fox jumps over the lazy dog.\",\n",
    "        \"She sells seashells by the seashore.\",\n",
    "        \"How much wood would a woodchuck chuck if a woodchuck could chuck wood?\",\n",
    "        \"Peter Piper picked a peck of pickled peppers.\",\n",
    "        \"Sally sells sea shells by the seashore.\"\n",
    "    ]\n",
    "    return random.choice(sentences)\n",
    "def calculate_typing_speed(time_limit):\n",
    "    target_text=generate_random_sentence()\n",
    "    display_markdown(\"## Typing Speed Test\")\n",
    "    display_markdown(f\"Type the following sentence:\\n\\n```\\n{target_text}\\n```\")\n",
    "    display_markdown(\"Press Enter to start the timer.\")\n",
    "    input()\n",
    "    start_time=time.time()\n",
    "    print('You have 30 seconds to finish this. Hurry up!!')\n",
    "    typed_text=input(\"Start typing: \")\n",
    "    end_time=time.time()\n",
    "    time_taken=end_time-start_time\n",
    "    words_typed=len(typed_text.split())\n",
    "    accuracy=calculate_accuracy(target_text,typed_text)\n",
    "    words_per_minute=(words_typed/time_taken)*60\n",
    "    display_markdown(\"### Typing Speed Results:\")\n",
    "    display_markdown(f\"Accuracy: {accuracy}%\")\n",
    "    display_markdown(f\"Words per minute: {words_per_minute}\")\n",
    "    display_markdown(f\"Total time taken: {time_taken} seconds\")\n",
    "    if time_taken<time_limit:\n",
    "        display_markdown(f\"You were **{time_limit-time_taken} seconds faster** than your target time.\")\n",
    "    elif time_taken>time_limit:\n",
    "        display_markdown(f\"You were **{time_taken-time_limit} seconds slower** than your target time.\")\n",
    "    else:\n",
    "        display_markdown(\"You reached your target time exactly!\")\n",
    "def calculate_accuracy(original_text,typed_text):\n",
    "    correct_chars=sum([1 for original_char,typed_char in zip(original_text,typed_text) if original_char==typed_char])\n",
    "    accuracy=(correct_chars/len(original_text)) * 100\n",
    "    return round(accuracy,2)\n",
    "target_time=30\n",
    "calculate_typing_speed(target_time)"
   ]
  },
  {
   "cell_type": "code",
   "execution_count": null,
   "id": "ec17c8b7",
   "metadata": {},
   "outputs": [],
   "source": []
  }
 ],
 "metadata": {
  "kernelspec": {
   "display_name": "Python 3 (ipykernel)",
   "language": "python",
   "name": "python3"
  },
  "language_info": {
   "codemirror_mode": {
    "name": "ipython",
    "version": 3
   },
   "file_extension": ".py",
   "mimetype": "text/x-python",
   "name": "python",
   "nbconvert_exporter": "python",
   "pygments_lexer": "ipython3",
   "version": "3.10.9"
  }
 },
 "nbformat": 4,
 "nbformat_minor": 5
}
